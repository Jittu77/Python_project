{
 "cells": [
  {
   "cell_type": "markdown",
   "metadata": {},
   "source": [
    "1. Convert these two lists into a dictionary. Take the keys from the first list, and\n",
    "values from the second one.\n",
    "keys = [‘Ten’, ‘Twenty’, ‘Thirty’],\n",
    "values = [10, 20, 30]"
   ]
  },
  {
   "cell_type": "code",
   "execution_count": 1,
   "metadata": {},
   "outputs": [
    {
     "name": "stdout",
     "output_type": "stream",
     "text": [
      "{'ten': 10, 'twenty': 20, 'thirty': 30}\n"
     ]
    }
   ],
   "source": [
    "key=['ten','twenty','thirty']\n",
    "value=[10,20,30]\n",
    "dict1={}\n",
    "if len(key)==len(value):\n",
    "    for i in range(len(key)):\n",
    "        dict1[key[i]]=value[i]\n",
    "print(dict1)"
   ]
  },
  {
   "cell_type": "code",
   "execution_count": null,
   "metadata": {},
   "outputs": [],
   "source": []
  }
 ],
 "metadata": {
  "kernelspec": {
   "display_name": "Python 3",
   "language": "python",
   "name": "python3"
  },
  "language_info": {
   "codemirror_mode": {
    "name": "ipython",
    "version": 3
   },
   "file_extension": ".py",
   "mimetype": "text/x-python",
   "name": "python",
   "nbconvert_exporter": "python",
   "pygments_lexer": "ipython3",
   "version": "3.11.5"
  }
 },
 "nbformat": 4,
 "nbformat_minor": 2
}
