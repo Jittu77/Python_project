{
 "cells": [
  {
   "cell_type": "code",
   "execution_count": 17,
   "metadata": {},
   "outputs": [
    {
     "name": "stdout",
     "output_type": "stream",
     "text": [
      "['he\\n', 'is\\n', 'a\\n', 'good\\n', 'boy\\n', 'no\\n', 'she\\n', 'is\\n', 'a\\n', 'good\\n', 'but\\n', 'claims\\n', 'not\\n', 'bad\\n', 'he\\n', 'looks\\n', 'on\\n', 'road\\n', 'think\\n', 'to\\n', 'good\\n', 'on\\n', 'park\\n', 'and\\n', 'went\\n', 'to\\n', 'fruit\\n', 'shop\\n']\n",
      "{'he': 2, 'is': 2, 'a': 2, 'good': 3, 'boy': 1, 'no': 1, 'she': 1, 'but': 1, 'claims': 1, 'not': 1, 'bad': 1, 'looks': 1, 'on': 2, 'road': 1, 'think': 1, 'to': 2, 'park': 1, 'and': 1, 'went': 1, 'fruit': 1, 'shop': 1}\n"
     ]
    }
   ],
   "source": [
    "'''Create a text file with one word in each line. The words can be repeated, i.e. the\n",
    "same word can come in more than one line. Read this text file in python, and\n",
    "create a dictionary where the key is the word and the value is the number of\n",
    "times it occurs in the text file.'''\n",
    "\n",
    "x = open(\"note.txt\",\"r\")   # opening text file to read.\n",
    "y = x.readlines()          # read each line and stores in a list.\n",
    "print(y)\n",
    "dict_word = {}\n",
    "for i in y:\n",
    "    i = i.strip()          # to remove whitespace from starting and last.\n",
    "    if i in dict_word.keys():\n",
    "        dict_word[i] += 1\n",
    "    else:\n",
    "        dict_word[i] = 1\n",
    "\n",
    "print(dict_word)"
   ]
  },
  {
   "cell_type": "code",
   "execution_count": null,
   "metadata": {},
   "outputs": [],
   "source": []
  }
 ],
 "metadata": {
  "kernelspec": {
   "display_name": "Python 3",
   "language": "python",
   "name": "python3"
  },
  "language_info": {
   "codemirror_mode": {
    "name": "ipython",
    "version": 3
   },
   "file_extension": ".py",
   "mimetype": "text/x-python",
   "name": "python",
   "nbconvert_exporter": "python",
   "pygments_lexer": "ipython3",
   "version": "3.11.5"
  }
 },
 "nbformat": 4,
 "nbformat_minor": 2
}
