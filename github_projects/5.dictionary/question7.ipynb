{
 "cells": [
  {
   "cell_type": "code",
   "execution_count": 17,
   "metadata": {},
   "outputs": [
    {
     "name": "stdout",
     "output_type": "stream",
     "text": [
      "{'Jittu': ['C', 'C', 'C'], 'Nikhil': ['B', 'B', 'C'], 'Sanjay': ['C', 'A', 'C'], 'Narayan': ['C', 'A', 'F'], 'Raj': ['F', 'B', 'F']}\n"
     ]
    }
   ],
   "source": [
    "'''7. Write a for loop to create another dictionary from the above where the marks\n",
    "are replaced by grades. Above 80 is A grade, 60-80 is B grade, 40-60 is C grade,and below 40 is F\n",
    "for each student.  '''\n",
    "\n",
    "course_name=['Math','Phy','Chem']\n",
    "dict_marks={'Jittu': [45, 54, 56], 'Nikhil': [67, 67, 54], 'Sanjay': [54, 87, 56], 'Narayan': [45, 87, 35], 'Raj': [34, 65, 32]}\n",
    "dict_marks1={}\n",
    "for value in dict_marks.values():\n",
    "    for j in range(len(value)):\n",
    "        if value[j]>80:\n",
    "            value[j]='A'\n",
    "        elif value[j]>60:\n",
    "            value[j]='B'\n",
    "        elif value[j]>40:\n",
    "            value[j]='C'\n",
    "        else:\n",
    "            value[j]='F'\n",
    "print(dict_marks)"
   ]
  },
  {
   "cell_type": "code",
   "execution_count": 29,
   "metadata": {},
   "outputs": [
    {
     "name": "stdout",
     "output_type": "stream",
     "text": [
      "{'Jittu': [56, 51.666666666666664], 'Nikhil': [67, 62.666666666666664], 'Sanjay': [87, 65.66666666666667], 'Narayan': [87, 55.666666666666664], 'Raj': [65, 43.666666666666664]}\n"
     ]
    }
   ],
   "source": [
    "#. Create another dictionary to store the max and average marks\n",
    "dict_marks={'Jittu': [45, 54, 56], 'Nikhil': [67, 67, 54], 'Sanjay': [54, 87, 56], 'Narayan': [45, 87, 35], 'Raj': [34, 65, 32]}\n",
    "def max_avg(lst):\n",
    "    max1=lst[0]\n",
    "    count=0\n",
    "    sum=0\n",
    "    for i in lst:\n",
    "        count+=1\n",
    "        sum+=i\n",
    "        if i>max1:\n",
    "            max1=i\n",
    "    avg1=sum/count\n",
    "    return [max1,avg1]\n",
    "dict_marks1={}\n",
    "for key,value in dict_marks.items():\n",
    "    dict_marks1[key]=max_avg(value)\n",
    "print(dict_marks1)\n"
   ]
  },
  {
   "cell_type": "code",
   "execution_count": 38,
   "metadata": {},
   "outputs": [
    {
     "name": "stdout",
     "output_type": "stream",
     "text": [
      "{'Jittu': 7.4, 'Nikhil': 7.6, 'Sanjay': 8.4, 'Narayan': 9.4, 'Raj': 8.2}\n"
     ]
    }
   ],
   "source": [
    "#Use this dictionary to compute the final CPI/CGPA of the\n",
    "#student. Course1 is of 4 credits, Course2 of 10 credits, and Course3 of 6 credits.\n",
    "#Store these credits in a list.\n",
    "# 'A'-10, 'B'-8, 'C'-6, 'D'-4\n",
    "course_name=['Math','Phy','Chem']\n",
    "credit=[4,10,6]\n",
    "dict_grade={'Jittu': ['B', 'B', 'C'], 'Nikhil': ['F', 'A', 'C'], 'Sanjay': ['A', 'B', 'B'], 'Narayan': ['A', 'A', 'B'], 'Raj': ['F','A','B']}\n",
    "di={}\n",
    "for key,value in dict_grade.items():\n",
    "    b=0\n",
    "    for i in range(len(value)):\n",
    "        if value[i]=='A':\n",
    "            b+=10*credit[i]\n",
    "        elif value[i]=='B':\n",
    "            b+=8*credit[i]\n",
    "        elif value[i]=='C':\n",
    "            b+=6*credit[i]\n",
    "        else:\n",
    "            b+=4*credit[i]\n",
    "\n",
    "    di[key]=b/sum(credit)\n",
    "print(di)"
   ]
  },
  {
   "cell_type": "code",
   "execution_count": 46,
   "metadata": {},
   "outputs": [
    {
     "name": "stdout",
     "output_type": "stream",
     "text": [
      "{'Jittu': 7.4, 'Nikhil': 7.6, 'Sanjay': 8.4, 'Narayan': 9.4, 'Raj': 8.2}\n"
     ]
    }
   ],
   "source": [
    "# Write this dictionary as a json file, and read it back\n",
    "# into a new dictionary.\n",
    "print(di)\n",
    "import json\n",
    "with open('outp.json','w') as file:\n",
    "    json.dump(di,file,indent=3)"
   ]
  }
 ],
 "metadata": {
  "kernelspec": {
   "display_name": "Python 3",
   "language": "python",
   "name": "python3"
  },
  "language_info": {
   "codemirror_mode": {
    "name": "ipython",
    "version": 3
   },
   "file_extension": ".py",
   "mimetype": "text/x-python",
   "name": "python",
   "nbconvert_exporter": "python",
   "pygments_lexer": "ipython3",
   "version": "3.11.5"
  }
 },
 "nbformat": 4,
 "nbformat_minor": 2
}
