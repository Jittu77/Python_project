{
 "cells": [
  {
   "cell_type": "code",
   "execution_count": 5,
   "metadata": {},
   "outputs": [
    {
     "name": "stdout",
     "output_type": "stream",
     "text": [
      "{'name': 'Kelly', 'age': 25, 'city': 'new york'}\n",
      "{'name': 'Kelly', 'age': 25, 'city23': 'new york'}\n"
     ]
    }
   ],
   "source": [
    "'''5. Remove a key from a dictionary:\n",
    "dict_name.pop(key_name)\n",
    "What does this function return?\n",
    "Use pop to rename a key. '''\n",
    "\n",
    "sample_dict = {\"name\":\"Kelly\", \"age\":25, \"salary\":8000, \"city\":\"new york\"}\n",
    "sample_dict.pop(\"salary\") #pop is a inbuilt function that is used to any particular key from dictionary\n",
    "print(sample_dict)\n",
    "sample_dict[\"city23\"]=sample_dict.pop(\"city\")\n",
    "print(sample_dict)"
   ]
  },
  {
   "cell_type": "code",
   "execution_count": null,
   "metadata": {},
   "outputs": [],
   "source": []
  }
 ],
 "metadata": {
  "kernelspec": {
   "display_name": "Python 3",
   "language": "python",
   "name": "python3"
  },
  "language_info": {
   "codemirror_mode": {
    "name": "ipython",
    "version": 3
   },
   "file_extension": ".py",
   "mimetype": "text/x-python",
   "name": "python",
   "nbconvert_exporter": "python",
   "pygments_lexer": "ipython3",
   "version": "3.11.5"
  }
 },
 "nbformat": 4,
 "nbformat_minor": 2
}
