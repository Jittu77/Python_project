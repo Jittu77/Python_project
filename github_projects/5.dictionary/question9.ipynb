{
 "cells": [
  {
   "cell_type": "code",
   "execution_count": 2,
   "metadata": {},
   "outputs": [
    {
     "name": "stdout",
     "output_type": "stream",
     "text": [
      "['JIttu', 'Renuka', 'Anamika', 'awadh']\n",
      "['Rakesh']\n",
      "['apple', 'mango', 'orange', 'grapes', 'banana', 'guava', 'cherry']\n"
     ]
    }
   ],
   "source": [
    "'''9. Create a dictionary whose keys are the names of your family members and\n",
    "friends, and the values are the list of fruits they like to eat. Now if the user gives\n",
    "a fruit as input, the code should print the list of names who like this fruit. Write\n",
    "another code to print the list of people who do not like this fruit. Using this\n",
    "dictionary as input, write a code to make a consolidated list of all the fruit\n",
    "names present in the values of various keys. This list should not have any\n",
    "duplicate entries. Do not use the set() function.'''\n",
    "\n",
    "dic={}\n",
    "dic[\"JIttu\"]=[\"apple\",\"mango\",\"orange\",\"grapes\",\"banana\"]\n",
    "dic[\"Rakesh\"]=[\"banana\",\"orange\",\"mango\"]\n",
    "dic[\"Renuka\"]=[\"mango\",\"apple\",\"grapes\"]\n",
    "dic[\"Anamika\"]=[\"guava\",\"cherry\",\"apple\"]\n",
    "dic[\"awadh\"]=[\"grapes\",\"apple\",\"cherry\"]\n",
    "a=input(\"Enter any fruit name and see, how many people like\")\n",
    "fruit_like=[]     #it will append all name of people who love to eat that fruit given by user\n",
    "for key in dic.keys():\n",
    "    if a in dic[key]:\n",
    "        fruit_like.append(key)  #fruit lover name added to a list of that category\n",
    "print(fruit_like)\n",
    "\n",
    "fruit_unlike=[]    #it will append all name of people who don't like to eat that fruit given by user\n",
    "for key in dic.keys():\n",
    "    if a not in dic[key]:\n",
    "        fruit_unlike.append(key)  #fruit lover name added to a list of that category\n",
    "print(fruit_unlike)\n",
    "\n",
    "fruit_unique=[]   #this list will store all fruit names without duplicate entries\n",
    "for value in dic.values():\n",
    "    for j in value:\n",
    "        if j not in fruit_unique:  #\"not in\" function will restrict to store the duplicate entres in list\n",
    "            fruit_unique.append(j)\n",
    "print(fruit_unique)"
   ]
  },
  {
   "cell_type": "code",
   "execution_count": null,
   "metadata": {},
   "outputs": [],
   "source": []
  }
 ],
 "metadata": {
  "kernelspec": {
   "display_name": "Python 3",
   "language": "python",
   "name": "python3"
  },
  "language_info": {
   "codemirror_mode": {
    "name": "ipython",
    "version": 3
   },
   "file_extension": ".py",
   "mimetype": "text/x-python",
   "name": "python",
   "nbconvert_exporter": "python",
   "pygments_lexer": "ipython3",
   "version": "3.11.5"
  }
 },
 "nbformat": 4,
 "nbformat_minor": 2
}
