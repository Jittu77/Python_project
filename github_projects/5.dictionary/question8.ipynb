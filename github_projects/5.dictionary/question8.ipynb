{
 "cells": [
  {
   "cell_type": "code",
   "execution_count": 23,
   "metadata": {},
   "outputs": [
    {
     "name": "stdout",
     "output_type": "stream",
     "text": [
      "{'marks': [98, 98, 89, 78, 67]}\n",
      "{'marks': [67, 78, 89, 98, 98]}\n"
     ]
    }
   ],
   "source": [
    "'''8. Create a dictionary of your marks in various subjects and then sort it by its\n",
    "values first in descending order, and then in or ascending order. Do not use any\n",
    "inbuilt sorting functions.'''\n",
    "#sorting marks in descending order\n",
    "dict1={\"marks\":[78,98,67,89,98]}\n",
    "for value in dict1.values(): #first taking a marks for sorting\n",
    "    for i in range(len(value)):  #taking range of len of types of subjects in marks\n",
    "        for j in range(i+1,len(value)): # checking order of i with other elements which has index value in marks\n",
    "            if value[j]>value[i]:    #if order is wrong then just,swap the values \n",
    "                value[j],value[i]=value[i],value[j]\n",
    "print(dict1)\n",
    "\n",
    "#sorting marks in ascending order\n",
    "dict1={\"marks\":[78,98,67,89,98]}\n",
    "for i in dict1.values():  #first taking a marks for sorting\n",
    "    for j in range(len(i)):  #taking range of len of types of subjects in marks\n",
    "        for k in range(j+1,len(i)):   # checking order of i with other elements which has index value in marks\n",
    "            if i[j]>i[k]:    ##if order is wrong then just,swap the values \n",
    "                i[j],i[k]=i[k],i[j]\n",
    "print(dict1)\n"
   ]
  },
  {
   "cell_type": "code",
   "execution_count": null,
   "metadata": {},
   "outputs": [],
   "source": []
  }
 ],
 "metadata": {
  "kernelspec": {
   "display_name": "Python 3",
   "language": "python",
   "name": "python3"
  },
  "language_info": {
   "codemirror_mode": {
    "name": "ipython",
    "version": 3
   },
   "file_extension": ".py",
   "mimetype": "text/x-python",
   "name": "python",
   "nbconvert_exporter": "python",
   "pygments_lexer": "ipython3",
   "version": "3.11.5"
  }
 },
 "nbformat": 4,
 "nbformat_minor": 2
}
