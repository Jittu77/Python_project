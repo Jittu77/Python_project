{
 "cells": [
  {
   "cell_type": "code",
   "execution_count": 7,
   "metadata": {},
   "outputs": [
    {
     "name": "stdout",
     "output_type": "stream",
     "text": [
      "{'Jittu': [45, 54, 56], 'Nikhil': [67, 67, 54], 'Sanjay': [54, 87, 56], 'Narayan': [45, 87, 35], 'Raj': [34, 65, 32]}\n",
      "Jittu\n",
      "Math marks : 45\n",
      "Phy marks : 54\n",
      "Chem marks : 56\n",
      "\n",
      "Nikhil\n",
      "Math marks : 67\n",
      "Phy marks : 67\n",
      "Chem marks : 54\n",
      "\n",
      "Sanjay\n",
      "Math marks : 54\n",
      "Phy marks : 87\n",
      "Chem marks : 56\n",
      "\n",
      "Narayan\n",
      "Math marks : 45\n",
      "Phy marks : 87\n",
      "Chem marks : 35\n",
      "\n",
      "Raj\n",
      "Math marks : 34\n",
      "Phy marks : 65\n",
      "Chem marks : 32\n",
      "\n"
     ]
    }
   ],
   "source": [
    "'''6. Create a dictionary to store the total marks of 5 students in the class in 3 subjects\n",
    "(Course1, Course2, Course3). The keys must be the student names, and the\n",
    "values must be the list of marks. Create another list which has the course names\n",
    "in the same order as the marks are stored in the dictionary values. Now write a\n",
    "nested for loop to print the marks for each student exam wise.\n",
    "Student1\n",
    "Course1 marks : 82\n",
    "Course2 marks : 84\n",
    "Course3 marks : 72\n",
    "Student2\n",
    "Course1 marks : 87\n",
    "Course2 marks : 83\n",
    "Course3 marks : 78'''\n",
    "\n",
    "course_name=['Math','Phy','Chem']\n",
    "dict_marks={}\n",
    "dict_marks['Jittu']=[45,54,56]\n",
    "dict_marks['Nikhil']=[67,67,54]\n",
    "dict_marks['Sanjay']=[54,87,56]\n",
    "dict_marks['Narayan']=[45,87,35]\n",
    "dict_marks['Raj']=[34,65,32]\n",
    "print(dict_marks)\n",
    "for key,value in dict_marks.items():\n",
    "    print(key)\n",
    "    for i in range(len(course_name)):\n",
    "        print(course_name[i],\"marks :\",value[i])\n",
    "    print()"
   ]
  },
  {
   "cell_type": "code",
   "execution_count": null,
   "metadata": {},
   "outputs": [],
   "source": []
  }
 ],
 "metadata": {
  "kernelspec": {
   "display_name": "Python 3",
   "language": "python",
   "name": "python3"
  },
  "language_info": {
   "codemirror_mode": {
    "name": "ipython",
    "version": 3
   },
   "file_extension": ".py",
   "mimetype": "text/x-python",
   "name": "python",
   "nbconvert_exporter": "python",
   "pygments_lexer": "ipython3",
   "version": "3.11.5"
  }
 },
 "nbformat": 4,
 "nbformat_minor": 2
}
