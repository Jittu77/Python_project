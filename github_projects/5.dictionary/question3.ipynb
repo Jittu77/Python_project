{
 "cells": [
  {
   "cell_type": "code",
   "execution_count": 3,
   "metadata": {},
   "outputs": [
    {
     "name": "stdout",
     "output_type": "stream",
     "text": [
      "b exists in {'a': 100, 'b': 200, 'c': 300}\n",
      "2000 does not exist in {'a': 100, 'b': 200, 'c': 300}\n"
     ]
    }
   ],
   "source": [
    "'''Check if a key exists in a dictionary:\n",
    "sample_dict = {'a': 100, 'b': 200, 'c': 300}\n",
    "key_needed = 'd'  '''\n",
    "\n",
    "sample_dict = {'a': 100, 'b': 200, 'c': 300}\n",
    "key_needed = 'b'\n",
    "a=5\n",
    "for key in sample_dict.keys():\n",
    "    if key_needed==key:\n",
    "        a=3\n",
    "if a==5:\n",
    "    print(key_needed,'does not exist in',sample_dict)\n",
    "else:\n",
    "    print(key_needed,'exists in',sample_dict)\n",
    "\n",
    "\n",
    "\n",
    "'''Check if a value exists in a dictionary:\n",
    "sample_dict = {'a': 100, 'b': 200, 'c': 300}\n",
    "value_needed = 200\n",
    "'''\n",
    "value_needed=2000\n",
    "a=8\n",
    "for value in sample_dict.values():\n",
    "    if value_needed==value:\n",
    "        a=9\n",
    "if a==9:\n",
    "    print(value_needed,'exists in',sample_dict)\n",
    "else:\n",
    "    print( value_needed,\"does not exist in\",sample_dict)\n",
    "        \n",
    "\n"
   ]
  },
  {
   "cell_type": "code",
   "execution_count": null,
   "metadata": {},
   "outputs": [],
   "source": []
  }
 ],
 "metadata": {
  "kernelspec": {
   "display_name": "Python 3",
   "language": "python",
   "name": "python3"
  },
  "language_info": {
   "codemirror_mode": {
    "name": "ipython",
    "version": 3
   },
   "file_extension": ".py",
   "mimetype": "text/x-python",
   "name": "python",
   "nbconvert_exporter": "python",
   "pygments_lexer": "ipython3",
   "version": "3.11.5"
  }
 },
 "nbformat": 4,
 "nbformat_minor": 2
}
