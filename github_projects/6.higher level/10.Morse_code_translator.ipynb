{
 "cells": [
  {
   "cell_type": "code",
   "execution_count": 31,
   "metadata": {},
   "outputs": [
    {
     "data": {
      "text/plain": [
       "('MARSH CODE FOR:',\n",
       " '--..--. .. - .- .-. . ----... --.-... -. .. ...- . .-. ... .. - -.-- ')"
      ]
     },
     "execution_count": 31,
     "metadata": {},
     "output_type": "execute_result"
    }
   ],
   "source": [
    "#10 Create a Morse code translator.\n",
    "\n",
    "#conversion from plane text to morsh code\n",
    "def plane_morse(str1):\n",
    "    dict_sym={'0':'-----','1':'.----','2':'..---','3':'...--','4':'....-','5':'.....','6':'-....','7':'--...','8':'---..',\n",
    "                '9':'----.','a':'.-','b':'-...','c':'-.-.','d':'-..','e':'.','f':'..-.',\n",
    "              'g':'--.','h':'....','i':'..','j':'.---','k':'-.-','l':'.-..','m':'--','n':'-.',\n",
    "                'o':'---','p':'.--.','q':'--.-','r':'.-.','s':'...','t':'-','u':'..-','v':'...-',\n",
    "                'w':'.--','x':'-..-','y':'-.--','z':'--..','A':'----..-','B':'----.--','C':'-------',\n",
    "                'D':'-----..','E':'-----.-','F':'------.','G':'---....','H':'---...-',\n",
    "              'I':'---..--','J':'---.---','K':'---.-..','L':'---.-.-','M':'--.....','N': '--....-','O':'--...-.','P':'--...--',\n",
    "              'Q':'--..-..','R':'--..-.-','S':'--..--.','T':'--..---','U':'--.-...','V':'--.-..-','W':'--.-.--','X':'--.-.-.',\n",
    "              'Y':'-.......','Z':'-....-..','?':'..--..',',':'--..--',' ':'----...',}# each character as keys and each respeective morsh code as values in given dictionary\n",
    "    str2=''\n",
    "    for i in str1: \n",
    "        if i in dict_sym.keys():\n",
    "            str2+=dict_sym[i]+' ' #this will add symbol to corresponding word\n",
    "    return \"MARSH CODE FOR:\",str2\n",
    "plane_morse(\"Sitare University\")"
   ]
  },
  {
   "cell_type": "code",
   "execution_count": 30,
   "metadata": {},
   "outputs": [
    {
     "data": {
      "text/plain": [
       "'S i t a r e   U n i v e r s i t y '"
      ]
     },
     "execution_count": 30,
     "metadata": {},
     "output_type": "execute_result"
    }
   ],
   "source": [
    "#conversion from morsh code to plane text \n",
    "def morse_plane(str1):\n",
    "    \n",
    "    dict_sym={'-----': '0','.----': '1', '..---': '2', '...--': '3', '....-': '4', '.....': '5',\n",
    "              '-....': '6', '--...': '7', '---..': '8', '----.': '9','.-': 'a', '-...': 'b', '-.-.': 'c', '-..': 'd', '.': 'e', '..-.': 'f', '--.': 'g',\n",
    "               '....': 'h', '..': 'i', '.---': 'j', '-.-': 'k', '.-..': 'l', '--': 'm', '-.': 'n',\n",
    "                 '---': 'o', '.--.': 'p', '--.-': 'q', '.-.': 'r', '...': 's', '-': 't', '..-': 'u',\n",
    "                   '...-': 'v', '.--': 'w', '-..-': 'x', '-.--': 'y', '--..': 'z', '..--..': '?',\n",
    "                    '--..--': ',','----...': ' ','----..-':'A','----.--':'B','-------':'C','-----..':'D',\n",
    "                    '-----.-':'E','------.':'F','---....':'G','---...-':'H','---..--':'I','---.---':'J',\n",
    "                    '---.-..':'K','---.-.-':'L','--.....':'M','--....-':'N','--...-.':'O','--...--':'P',\n",
    "                    '--..-..':'Q','--..-.-':'R','--..--.':'S','--..---':'T','--.-...':'U','--.-..-':'V',\n",
    "                    '--.-.--':'W','--.-.-.':'X','-.......':'Y','-....-..':'Z'\n",
    "\n",
    "                           }#symbols for words to morse code\n",
    "    str2=''\n",
    "\n",
    "    for i in str1.split(): #here split convert into list with spaces\n",
    "        if i in dict_sym.keys():           \n",
    "             str2+=dict_sym[i]+' '#this will add every word converted from symbol with space\n",
    "    return str2\n",
    "\n",
    "\n",
    "morse_plane('--..--. .. - .- .-. . ----... --.-... -. .. ...- . .-. ... .. - -.-- ')"
   ]
  },
  {
   "cell_type": "code",
   "execution_count": null,
   "metadata": {},
   "outputs": [],
   "source": []
  }
 ],
 "metadata": {
  "kernelspec": {
   "display_name": "Python 3",
   "language": "python",
   "name": "python3"
  },
  "language_info": {
   "codemirror_mode": {
    "name": "ipython",
    "version": 3
   },
   "file_extension": ".py",
   "mimetype": "text/x-python",
   "name": "python",
   "nbconvert_exporter": "python",
   "pygments_lexer": "ipython3",
   "version": "3.11.5"
  }
 },
 "nbformat": 4,
 "nbformat_minor": 2
}
