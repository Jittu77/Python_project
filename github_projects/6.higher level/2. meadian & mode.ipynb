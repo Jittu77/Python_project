{
 "cells": [
  {
   "cell_type": "code",
   "execution_count": 54,
   "metadata": {},
   "outputs": [
    {
     "name": "stdout",
     "output_type": "stream",
     "text": [
      "[2, 3, 3, 3, 3, 3, 4, 4, 4, 4, 4, 5, 5, 434]\n",
      "4.0\n"
     ]
    }
   ],
   "source": [
    "#Given a list of numbers, find out the median.\n",
    "def sort_asc(lst):\n",
    "    \n",
    "    for i in range(len(lst)-1):  # we will iterate to swap each letter to its next forward letters till len(lst)-1 times\n",
    "        for j in range (i+1,len(lst)):  # i will swap with j according to their order\n",
    "            if lst[i]>lst[j]:\n",
    "                lst[i],lst[j]=lst[j],lst[i]  # swapping\n",
    "    return lst\n",
    "a=[3,3,4,3,4,5,4,5,3,2,434,4,3,4]  #given a list\n",
    "a=sort_asc(a)\n",
    "print(a)\n",
    "median1=0\n",
    "if len(a)%2==0:   #when length of list is even,there will be two middle numbers, \n",
    "    median1=(a[int((len(a)/2))-1]+a[int((len(a)/2)+1)-1])/2  #so to find median, we have to take avge of these numbers\n",
    "else:\n",
    "    median1=a[int((len(a)+1)/2)-1]  #if length of list is odd, then the middle number will be the median\n",
    "print(median1)"
   ]
  },
  {
   "cell_type": "code",
   "execution_count": 53,
   "metadata": {},
   "outputs": [
    {
     "name": "stdout",
     "output_type": "stream",
     "text": [
      "[3, 4]\n"
     ]
    }
   ],
   "source": [
    "#Given a list of numbers, find out the mode.\n",
    "lst1=[3,3,4,3,4,5,4,5,3,2,434,4,3,4]\n",
    "lst2=[]\n",
    "\n",
    "# firstly, storing all unique numbers in a nother list from given numbers\n",
    "for i in lst1:   \n",
    "    if i not in lst2: #\"not in\" function used to not to take duplicate numbers\n",
    "        lst2.append(i)\n",
    "dic={}   #here, it appends a unique number from list as keys and occuration number as values\n",
    "b=[]    #this list made to append all occuraation number of numbers in given list \n",
    "for k in lst2:\n",
    "    count=0\n",
    "    for j in lst1:\n",
    "        if k==j:\n",
    "            count+=1\n",
    "    b.append(count)\n",
    "    # print(b)\n",
    "    dic[k]=count   #appending unique no's as keys and occuration number as values \n",
    "    # print(k,\"is present in lst1\",count,'times')\n",
    "# print(dic)\n",
    "max1=b[0]  #taking a reference to find out maximum occurence \n",
    "for i in b:   #here this loop will decide max occurence\n",
    "    if i>max1:\n",
    "        max1=i\n",
    "mode=[]  #creating a new list to append mode of numbers of given list, because mode can be unique, bimodal. trimodal also\n",
    "for key,value in dic.items():\n",
    "    if value==max1:  #if indicates max occurence keys\n",
    "        mode.append(key)\n",
    "print(mode)"
   ]
  },
  {
   "cell_type": "code",
   "execution_count": null,
   "metadata": {},
   "outputs": [],
   "source": []
  }
 ],
 "metadata": {
  "kernelspec": {
   "display_name": "Python 3",
   "language": "python",
   "name": "python3"
  },
  "language_info": {
   "codemirror_mode": {
    "name": "ipython",
    "version": 3
   },
   "file_extension": ".py",
   "mimetype": "text/x-python",
   "name": "python",
   "nbconvert_exporter": "python",
   "pygments_lexer": "ipython3",
   "version": "3.11.5"
  }
 },
 "nbformat": 4,
 "nbformat_minor": 2
}
