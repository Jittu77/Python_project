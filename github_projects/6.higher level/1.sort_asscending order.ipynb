{
 "cells": [
  {
   "cell_type": "code",
   "execution_count": 3,
   "metadata": {},
   "outputs": [
    {
     "data": {
      "text/plain": [
       "[-98, -8, 0, 2311, 667677]"
      ]
     },
     "execution_count": 3,
     "metadata": {},
     "output_type": "execute_result"
    }
   ],
   "source": [
    "'''1. Given a list of numbers, sort it in ascending order.'''\n",
    "def sort_asc(lst):  # defining a function to sort it in ascending order\n",
    "    \n",
    "    for i in range(len(lst)-1):  #we will iterate to swap each letter to its next forward letters till len(lst)-1 times \n",
    "        for j in range (i+1,len(lst)):  # i will swap with j according to their order\n",
    "            if lst[i]>lst[j]:\n",
    "                lst[i],lst[j]=lst[j],lst[i]  #swapping\n",
    "    return lst\n",
    "a=[2311,0,667677,-8,-98]\n",
    "sort_asc(a)"
   ]
  },
  {
   "cell_type": "code",
   "execution_count": null,
   "metadata": {},
   "outputs": [],
   "source": []
  },
  {
   "cell_type": "code",
   "execution_count": null,
   "metadata": {},
   "outputs": [],
   "source": []
  }
 ],
 "metadata": {
  "kernelspec": {
   "display_name": "Python 3",
   "language": "python",
   "name": "python3"
  },
  "language_info": {
   "codemirror_mode": {
    "name": "ipython",
    "version": 3
   },
   "file_extension": ".py",
   "mimetype": "text/x-python",
   "name": "python",
   "nbconvert_exporter": "python",
   "pygments_lexer": "ipython3",
   "version": "3.11.5"
  }
 },
 "nbformat": 4,
 "nbformat_minor": 2
}
