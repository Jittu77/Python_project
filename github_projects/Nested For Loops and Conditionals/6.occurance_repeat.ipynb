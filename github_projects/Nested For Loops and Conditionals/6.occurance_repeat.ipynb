{
 "cells": [
  {
   "cell_type": "markdown",
   "metadata": {},
   "source": [
    "6. Given a list of numbers, find out how many times each number occurs in the list\n"
   ]
  },
  {
   "cell_type": "code",
   "execution_count": 1,
   "metadata": {},
   "outputs": [],
   "source": [
    "def rep_num(lst1):\n",
    "    lst2=[]\n",
    "    for i in lst1:\n",
    "        if i not in lst2:\n",
    "            lst2.append(i)\n",
    "    \n",
    "    for k in lst2:\n",
    "        count=0\n",
    "        for j in lst1:\n",
    "            if k==j:\n",
    "                count+=1\n",
    "        print(k,\"is present in lst1\",count,'times')"
   ]
  },
  {
   "cell_type": "code",
   "execution_count": 2,
   "metadata": {},
   "outputs": [
    {
     "name": "stdout",
     "output_type": "stream",
     "text": [
      "3 is present in lst1 3 times\n",
      "4 is present in lst1 5 times\n",
      "5 is present in lst1 2 times\n",
      "2 is present in lst1 1 times\n",
      "434 is present in lst1 1 times\n"
     ]
    }
   ],
   "source": [
    "rep_num([3,4,3,4,5,4,5,2,434,4,3,4])"
   ]
  },
  {
   "cell_type": "code",
   "execution_count": null,
   "metadata": {},
   "outputs": [],
   "source": []
  }
 ],
 "metadata": {
  "kernelspec": {
   "display_name": "Python 3",
   "language": "python",
   "name": "python3"
  },
  "language_info": {
   "codemirror_mode": {
    "name": "ipython",
    "version": 3
   },
   "file_extension": ".py",
   "mimetype": "text/x-python",
   "name": "python",
   "nbconvert_exporter": "python",
   "pygments_lexer": "ipython3",
   "version": "3.11.5"
  }
 },
 "nbformat": 4,
 "nbformat_minor": 2
}
