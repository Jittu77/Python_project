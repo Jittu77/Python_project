{
 "cells": [
  {
   "cell_type": "markdown",
   "metadata": {},
   "source": [
    "9. Given a string input, find out if it’s a palindrome.\n"
   ]
  },
  {
   "cell_type": "code",
   "execution_count": 2,
   "metadata": {},
   "outputs": [],
   "source": [
    "#palindrome:A palindrome is a word, phrase, number, or other sequence of characters that reads the same forward and backward.\n",
    "def palindrome(str1):\n",
    "    rev_str1=\"\"\n",
    "    for i in str1[::-1]:  #reversing order of all elements in another string\n",
    "        rev_str1+=i\n",
    "    if str1==rev_str1:\n",
    "        return \"It's a palindrome\"\n",
    "    else:\n",
    "        return \"it's not a palindrome\"\n"
   ]
  },
  {
   "cell_type": "code",
   "execution_count": 4,
   "metadata": {},
   "outputs": [
    {
     "data": {
      "text/plain": [
       "\"It's a palindrome\""
      ]
     },
     "execution_count": 4,
     "metadata": {},
     "output_type": "execute_result"
    }
   ],
   "source": [
    "palindrome('radar ss radar')"
   ]
  }
 ],
 "metadata": {
  "kernelspec": {
   "display_name": "Python 3",
   "language": "python",
   "name": "python3"
  },
  "language_info": {
   "codemirror_mode": {
    "name": "ipython",
    "version": 3
   },
   "file_extension": ".py",
   "mimetype": "text/x-python",
   "name": "python",
   "nbconvert_exporter": "python",
   "pygments_lexer": "ipython3",
   "version": "3.11.5"
  }
 },
 "nbformat": 4,
 "nbformat_minor": 2
}
