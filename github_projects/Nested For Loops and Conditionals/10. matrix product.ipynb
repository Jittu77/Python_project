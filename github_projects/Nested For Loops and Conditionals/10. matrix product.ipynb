{
 "cells": [
  {
   "cell_type": "markdown",
   "metadata": {},
   "source": [
    "10. Given two 3x3 matrices with values stored in two lists of length 9, find their product"
   ]
  },
  {
   "cell_type": "code",
   "execution_count": 2,
   "metadata": {},
   "outputs": [
    {
     "data": {
      "text/plain": [
       "[[148, 189, 132], [169, 216, 151], [149, 189, 133]]"
      ]
     },
     "execution_count": 2,
     "metadata": {},
     "output_type": "execute_result"
    }
   ],
   "source": [
    "def produ(m1,m2):\n",
    "\n",
    "    m=[[0,0,0],[0,0,0],[0,0,0]]\n",
    "    for i in range(len(m1)):\n",
    "        for j in range(len(m2[0])):\n",
    "            for k in range(len(m2)):\n",
    "                m[i][j]+=m1[i][k]*m2[k][j]\n",
    "    return (m)\n",
    "k1=[[6,7,8],[7,8,9],[7,9,5]]\n",
    "k2=[[6,9,7],[8,9,6],[7,9,6]]\n",
    "produ(k1,k2)"
   ]
  }
 ],
 "metadata": {
  "kernelspec": {
   "display_name": "Python 3",
   "language": "python",
   "name": "python3"
  },
  "language_info": {
   "codemirror_mode": {
    "name": "ipython",
    "version": 3
   },
   "file_extension": ".py",
   "mimetype": "text/x-python",
   "name": "python",
   "nbconvert_exporter": "python",
   "pygments_lexer": "ipython3",
   "version": "3.11.5"
  }
 },
 "nbformat": 4,
 "nbformat_minor": 2
}
