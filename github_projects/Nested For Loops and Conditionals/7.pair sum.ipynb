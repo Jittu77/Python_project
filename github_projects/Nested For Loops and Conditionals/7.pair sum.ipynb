{
 "cells": [
  {
   "cell_type": "markdown",
   "metadata": {},
   "source": [
    "7. Given a list of integers, find all pairs of integers in the list whose sum is zero.\n"
   ]
  },
  {
   "cell_type": "code",
   "execution_count": 17,
   "metadata": {},
   "outputs": [],
   "source": [
    "def pairs_sum0(lst1):   \n",
    "    pairs=[]\n",
    "    for i in range(len(lst1)):\n",
    "        for j in range(i+1,len(lst1)):\n",
    "            if lst1[i]+lst1[j]==0:\n",
    "                pairs.append([lst1[i],lst1[j]])\n",
    "    return pairs"
   ]
  },
  {
   "cell_type": "code",
   "execution_count": 19,
   "metadata": {},
   "outputs": [
    {
     "data": {
      "text/plain": [
       "[[2, -2],\n",
       " [4, -4],\n",
       " [4, -4],\n",
       " [4, -4],\n",
       " [4, -4],\n",
       " [3, -3],\n",
       " [-2, 2],\n",
       " [-4, 4],\n",
       " [4, -4]]"
      ]
     },
     "execution_count": 19,
     "metadata": {},
     "output_type": "execute_result"
    }
   ],
   "source": [
    "b=[2,4,5,4,3,-3,-2,-4,2,4,-4]\n",
    "pairs_sum0(b)"
   ]
  },
  {
   "cell_type": "code",
   "execution_count": null,
   "metadata": {},
   "outputs": [],
   "source": []
  }
 ],
 "metadata": {
  "kernelspec": {
   "display_name": "Python 3",
   "language": "python",
   "name": "python3"
  },
  "language_info": {
   "codemirror_mode": {
    "name": "ipython",
    "version": 3
   },
   "file_extension": ".py",
   "mimetype": "text/x-python",
   "name": "python",
   "nbconvert_exporter": "python",
   "pygments_lexer": "ipython3",
   "version": "3.11.5"
  }
 },
 "nbformat": 4,
 "nbformat_minor": 2
}
