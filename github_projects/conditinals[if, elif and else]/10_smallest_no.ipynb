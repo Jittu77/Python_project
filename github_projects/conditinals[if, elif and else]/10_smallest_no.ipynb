{
 "cells": [
  {
   "cell_type": "code",
   "execution_count": 1,
   "metadata": {},
   "outputs": [],
   "source": [
    "def larger_no(a,b,c):\n",
    "    if a>b and a>c: #if this condition doesn't satisfy then a cannot be greater.\n",
    "        return a, \"is greter than other\", b,\"and\",c\n",
    "    elif b>c:\n",
    "        return b, \"is greter than other\", a,\"and\",c\n",
    "    else:\n",
    "        return c, \"is greter than other\", a,\"and\",b"
   ]
  },
  {
   "cell_type": "code",
   "execution_count": 2,
   "metadata": {},
   "outputs": [
    {
     "data": {
      "text/plain": [
       "(89, 'is greter than other', 6, 'and', 87)"
      ]
     },
     "execution_count": 2,
     "metadata": {},
     "output_type": "execute_result"
    }
   ],
   "source": [
    "larger_no(6,89,87)"
   ]
  },
  {
   "cell_type": "code",
   "execution_count": null,
   "metadata": {},
   "outputs": [],
   "source": []
  }
 ],
 "metadata": {
  "kernelspec": {
   "display_name": "Python 3",
   "language": "python",
   "name": "python3"
  },
  "language_info": {
   "codemirror_mode": {
    "name": "ipython",
    "version": 3
   },
   "file_extension": ".py",
   "mimetype": "text/x-python",
   "name": "python",
   "nbconvert_exporter": "python",
   "pygments_lexer": "ipython3",
   "version": "3.11.5"
  }
 },
 "nbformat": 4,
 "nbformat_minor": 2
}
