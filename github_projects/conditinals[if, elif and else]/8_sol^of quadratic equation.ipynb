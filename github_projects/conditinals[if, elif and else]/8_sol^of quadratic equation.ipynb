{
 "cells": [
  {
   "cell_type": "markdown",
   "metadata": {},
   "source": [
    "Given a quadratic equation with coefficients a, b and c, find the two solutions (may be real or complex). You should not take the square root of a negative number in your code."
   ]
  },
  {
   "cell_type": "code",
   "execution_count": 3,
   "metadata": {},
   "outputs": [],
   "source": [
    "def quad_soln(a,b,c):\n",
    "    print(\"equation is:\",a,\"*x^2+\",b,\"*x+\",c,\"*=0\")\n",
    "    if a!=0:   #to be a quadratic equation, coefficient of x^2 can't be 0.\n",
    "        D=b**2-4*a*c\n",
    "        D1=4*a*c-b**2\n",
    "        if D>0:  #if solutions are real then 'D' should be greter than 0\n",
    "            return \"Solutions are real and they are\", (-b+D**0.5)/2*a, 'and', (-b-D**0.5)/2*a\n",
    "        elif D<0:  #if solutions are real then 'D' should be greter than 0\n",
    "            return \"solutions are imagionary, real part of 1st soln is\",-b/2*a,  \"imaginary part is\",-((D**0.5)/2*a), 'and', \"real part of 2nd soln is\",-b/2*a,  \"imaginary part is\",(D**0.5)/2*a, \n",
    "        else:    #if both soluitons(zeros) are same\n",
    "            return \"both solution are same and equals to \",-b/2*a\n",
    "    else:\n",
    "        return \"its not a quadratic equation\"\n",
    "            "
   ]
  },
  {
   "cell_type": "markdown",
   "metadata": {},
   "source": [
    "Examples:"
   ]
  },
  {
   "cell_type": "code",
   "execution_count": 4,
   "metadata": {},
   "outputs": [
    {
     "name": "stdout",
     "output_type": "stream",
     "text": [
      "equation is: 1 *x^2+ 3 *x+ 9 *=0\n"
     ]
    },
    {
     "data": {
      "text/plain": [
       "('solutions are imagionary, real part of 1st soln is',\n",
       " -1.5,\n",
       " 'imaginary part is',\n",
       " (-1.5908628580873605e-16-2.598076211353316j),\n",
       " 'and',\n",
       " 'real part of 2nd soln is',\n",
       " -1.5,\n",
       " 'imaginary part is',\n",
       " (1.5908628580873605e-16+2.598076211353316j))"
      ]
     },
     "execution_count": 4,
     "metadata": {},
     "output_type": "execute_result"
    }
   ],
   "source": [
    "quad_soln(1,3,9)"
   ]
  },
  {
   "cell_type": "code",
   "execution_count": 5,
   "metadata": {},
   "outputs": [
    {
     "name": "stdout",
     "output_type": "stream",
     "text": [
      "equation is: 1 *x^2+ -6 *x+ 9 *=0\n"
     ]
    },
    {
     "data": {
      "text/plain": [
       "('both solution are same and equals to ', 3.0)"
      ]
     },
     "execution_count": 5,
     "metadata": {},
     "output_type": "execute_result"
    }
   ],
   "source": [
    "quad_soln(1,-6,9)"
   ]
  },
  {
   "cell_type": "code",
   "execution_count": 6,
   "metadata": {},
   "outputs": [
    {
     "name": "stdout",
     "output_type": "stream",
     "text": [
      "equation is: 1 *x^2+ 5 *x+ 2 *=0\n"
     ]
    },
    {
     "data": {
      "text/plain": [
       "('Solutions are real and they are',\n",
       " -0.4384471871911697,\n",
       " 'and',\n",
       " -4.561552812808831)"
      ]
     },
     "execution_count": 6,
     "metadata": {},
     "output_type": "execute_result"
    }
   ],
   "source": [
    "quad_soln(1,5,2)"
   ]
  },
  {
   "cell_type": "code",
   "execution_count": null,
   "metadata": {},
   "outputs": [],
   "source": []
  }
 ],
 "metadata": {
  "kernelspec": {
   "display_name": "Python 3",
   "language": "python",
   "name": "python3"
  },
  "language_info": {
   "codemirror_mode": {
    "name": "ipython",
    "version": 3
   },
   "file_extension": ".py",
   "mimetype": "text/x-python",
   "name": "python",
   "nbconvert_exporter": "python",
   "pygments_lexer": "ipython3",
   "version": "3.11.5"
  }
 },
 "nbformat": 4,
 "nbformat_minor": 2
}
