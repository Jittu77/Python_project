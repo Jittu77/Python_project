{
 "cells": [
  {
   "cell_type": "markdown",
   "metadata": {},
   "source": [
    "Given three points, find out whether they lie on the same straight line or not."
   ]
  },
  {
   "cell_type": "code",
   "execution_count": 2,
   "metadata": {},
   "outputs": [],
   "source": [
    "#definig fuction for 3 points to be determined to find either they lie on a lone or not in 2d.\n",
    "def collinear(x1,y1,x2,y2,x3,y3):\n",
    "    print(\"points are\",(x1,y1),(x2,y2),'and',(x3,y3))\n",
    "    Area=(x1*(y2-y3)+x2*(y3-y1)+x3*(y1-y2))/2  #area bounded by 3 points \n",
    "    if x1==x2==x3 and y1==y2==y3:  #all points lie on single point\n",
    "        return \"all points are same\"\n",
    "    elif Area==0:  # if area is zero then all three points lie on a single line\n",
    "        return \"all points are collinear\" #\n",
    "    else:\n",
    "        return \"all points are not collinear\" #if area is not zero then all points are not in a single line\n",
    "\n"
   ]
  },
  {
   "cell_type": "code",
   "execution_count": null,
   "metadata": {},
   "outputs": [],
   "source": []
  }
 ],
 "metadata": {
  "kernelspec": {
   "display_name": "Python 3",
   "language": "python",
   "name": "python3"
  },
  "language_info": {
   "codemirror_mode": {
    "name": "ipython",
    "version": 3
   },
   "file_extension": ".py",
   "mimetype": "text/x-python",
   "name": "python",
   "nbconvert_exporter": "python",
   "pygments_lexer": "ipython3",
   "version": "3.11.5"
  }
 },
 "nbformat": 4,
 "nbformat_minor": 2
}
