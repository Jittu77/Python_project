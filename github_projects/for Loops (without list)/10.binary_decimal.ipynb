{
 "cells": [
  {
   "cell_type": "markdown",
   "metadata": {},
   "source": [
    "10. Given a positive integer, convert it into binary, and vice-versa.\n"
   ]
  },
  {
   "cell_type": "code",
   "execution_count": 9,
   "metadata": {},
   "outputs": [
    {
     "data": {
      "text/plain": [
       "1000"
      ]
     },
     "execution_count": 9,
     "metadata": {},
     "output_type": "execute_result"
    }
   ],
   "source": [
    "#funtion for conversion from decimal number to binary number\n",
    "def decimal_binary(a):\n",
    "    i=0\n",
    "    count=0\n",
    "    while a>0:\n",
    "        i=i+(a%2)*(10**count)\n",
    "        count+=1\n",
    "        a=a//2\n",
    "    return (i)\n",
    "decimal_binary(8)"
   ]
  },
  {
   "cell_type": "code",
   "execution_count": 3,
   "metadata": {},
   "outputs": [
    {
     "data": {
      "text/plain": [
       "15"
      ]
     },
     "execution_count": 3,
     "metadata": {},
     "output_type": "execute_result"
    }
   ],
   "source": [
    "#funtion for conversion from decimal number to binary number\n",
    "def binary_decimal(a):\n",
    "    b=0\n",
    "    c=0\n",
    "    \n",
    "    while a>0:\n",
    "        c+=(a%10)*(2**b)\n",
    "        b+=1\n",
    "        a=a//10\n",
    "    return c\n",
    "binary_decimal(1111)"
   ]
  },
  {
   "cell_type": "code",
   "execution_count": null,
   "metadata": {},
   "outputs": [],
   "source": []
  }
 ],
 "metadata": {
  "kernelspec": {
   "display_name": "Python 3",
   "language": "python",
   "name": "python3"
  },
  "language_info": {
   "codemirror_mode": {
    "name": "ipython",
    "version": 3
   },
   "file_extension": ".py",
   "mimetype": "text/x-python",
   "name": "python",
   "nbconvert_exporter": "python",
   "pygments_lexer": "ipython3",
   "version": "3.11.5"
  }
 },
 "nbformat": 4,
 "nbformat_minor": 2
}
